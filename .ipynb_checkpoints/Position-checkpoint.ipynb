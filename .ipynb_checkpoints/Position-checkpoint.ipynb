{
 "cells": [
  {
   "cell_type": "code",
   "execution_count": 7,
   "metadata": {},
   "outputs": [],
   "source": [
    "%matplotlib inline\n",
    "import numpy\n",
    "import math\n",
    "import csv\n",
    "import matplotlib.pyplot as plt\n",
    "\n",
    "first_collision = None"
   ]
  },
  {
   "cell_type": "code",
   "execution_count": 8,
   "metadata": {},
   "outputs": [],
   "source": [
    "\n",
    "class Vehicle:\n",
    "    def __init__(self, name):\n",
    "        self.name = name\n",
    "        self.x = None\n",
    "        self.prev_pos = []\n",
    "        self.timestamp = \"\"\n",
    "        self.collisions = []\n",
    "\n",
    "    def set_pos(self, speed, timestamp):\n",
    "        # voor elke timestamp voegt hij de snelheid toe aan zijn positie. De eerste snelheid is zijn begin positie\n",
    "        if self.x != None:\n",
    "            self.prev_pos.append([self.x, self.timestamp])\n",
    "        if self.x is None:\n",
    "            self.x = speed\n",
    "        else:\n",
    "            self.x += speed\n",
    "        self.timestamp = timestamp\n",
    "\n",
    "    def check_collision(self, vehicle):\n",
    "        # om te checken of de autos elkaar geraakt hebben kijkt hij eerst of de auto eerst achter hem was -1 meter zoja\n",
    "        # dan kijkt hij of de auto nu voor hem is -1 meter zoja dan heeft hij hem dus door hem gereden wat niet kan dus\n",
    "        # ook wel gezegd hij heeft de auto voor hem geraakt.\n",
    "\n",
    "        # -1 meter voor voor en achter kant omdat de auto een lengte van 2 meter heeft\n",
    "        global first_collision\n",
    "        if len(vehicle.prev_pos) > 0:\n",
    "            if vehicle.prev_pos[-1][0] <= self.x - 1 and vehicle.x >= self.x - 1:\n",
    "                self.collisions.append([self.timestamp, vehicle])\n",
    "                if first_collision is None:\n",
    "                    first_collision = [self.timestamp, vehicle, self]\n",
    "\n",
    "    def split_array(self):\n",
    "        # deze functie zorgt ervoor dat de timestamp van de snelheid gesplitst word naar een andere array\n",
    "        speeds = []\n",
    "        timestamps = []\n",
    "        for speed in self.prev_pos:\n",
    "            speeds.append(speed[0])\n",
    "            timestamps.append(speed[1])\n",
    "        return timestamps, speeds\n",
    "\n",
    "    def plot_speeds(self):\n",
    "        # laat de data zien in een lijn grafiek\n",
    "        plt.plot(*self.split_array())"
   ]
  },
  {
   "cell_type": "code",
   "execution_count": 9,
   "metadata": {},
   "outputs": [
    {
     "name": "stdout",
     "output_type": "stream",
     "text": [
      "First collision on timestamp: 0 with cars 1 and 3\n"
     ]
    },
    {
     "data": {
      "image/png": "[encoded data removed]",
      "text/plain": [
       "<Figure size 432x288 with 1 Axes>"
      ]
     },
     "metadata": {
      "needs_background": "light"
     },
     "output_type": "display_data"
    }
   ],
   "source": [
    "vehicles = []\n",
    "for i in range(1, 4):\n",
    "    vehicles.append(Vehicle(str(i)))\n",
    "# Open het csv bestand en maak een csv reader\n",
    "with open(\"speeds.csv\", \"r\") as csvfile:\n",
    "    speedreader = csv.reader(csvfile, delimiter=\";\")\n",
    "    # loop door elke rij van het csv bestand heen\n",
    "    for row in speedreader:\n",
    "        # convert alles naar floats zodat ik hier calculaties op kan maken\n",
    "        row[0] = row[0]\n",
    "        row[1] = float(row[1])\n",
    "        row[2] = float(row[2])\n",
    "        row[3] = float(row[3])\n",
    "        # bereken de posities\n",
    "        for i in range(1, 4):\n",
    "            vehicle = vehicles[i - 1]\n",
    "            vehicle.set_pos(row[i], row[0])\n",
    "            for v in vehicles:\n",
    "                if v.name == vehicle.name:\n",
    "                    continue\n",
    "                vehicle.check_collision(v)\n",
    "print(\n",
    "    \"First collision on timestamp: \"\n",
    "    + str(first_collision[0])\n",
    "    + \" with cars \"\n",
    "    + first_collision[1].name\n",
    "    + \" and \"\n",
    "    + first_collision[2].name\n",
    ")\n",
    "for v in vehicles:\n",
    "    v.plot_speeds()"
   ]
  },
  {
   "cell_type": "code",
   "execution_count": 10,
   "metadata": {},
   "outputs": [],
   "source": [
    "plt.show()"
   ]
  },
  {
   "cell_type": "code",
   "execution_count": null,
   "metadata": {},
   "outputs": [],
   "source": []
  }
 ],
 "metadata": {
  "kernelspec": {
   "display_name": "Python 3",
   "language": "python",
   "name": "python3"
  },
  "language_info": {
   "codemirror_mode": {
    "name": "ipython",
    "version": 3
   },
   "file_extension": ".py",
   "mimetype": "text/x-python",
   "name": "python",
   "nbconvert_exporter": "python",
   "pygments_lexer": "ipython3",
   "version": "3.7.3"
  }
 },
 "nbformat": 4,
 "nbformat_minor": 2
}
