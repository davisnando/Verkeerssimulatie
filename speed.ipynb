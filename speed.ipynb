{
 "cells": [
  {
   "cell_type": "code",
   "execution_count": 1,
   "metadata": {},
   "outputs": [],
   "source": [
    "%matplotlib inline\n",
    "import numpy\n",
    "import math\n",
    "import csv\n",
    "import matplotlib.pyplot as plt"
   ]
  },
  {
   "cell_type": "code",
   "execution_count": 2,
   "metadata": {},
   "outputs": [],
   "source": [
    "\n",
    "class Vehicle:\n",
    "    def __init__(self, name):\n",
    "        self.name = name\n",
    "        self.speeds = []\n",
    "        self.positions = []\n",
    "\n",
    "    def calculate_speed(self, position, timestamp):\n",
    "        if len(self.positions) == 0:\n",
    "            self.positions.append(position)\n",
    "            self.speeds.append([0, timestamp])\n",
    "            return\n",
    "\n",
    "        previous_position = self.positions[-1]\n",
    "        # door de pythagoras stelling weet ik hoeveel ik heb gereden\n",
    "        # dit berekent de eerste punt uit\n",
    "        x = (previous_position[0] - position[0]) ** 2\n",
    "        # dit berekent de tweede punt uit\n",
    "        y = (previous_position[1] - position[1]) ** 2\n",
    "        # Doe de wortel van de 2 berekende punten\n",
    "        d = math.sqrt(x + y)\n",
    "\n",
    "        self.speeds.append([d, timestamp])\n",
    "        self.positions.append(position)\n",
    "        return\n",
    "\n",
    "    def split_array(self):\n",
    "        # deze functie zorgt ervoor dat de timestamp van de snelheid gesplitst word naar een andere array\n",
    "        speeds = []\n",
    "        timestamps = []\n",
    "        for speed in self.speeds:\n",
    "            speeds.append(speed[0])\n",
    "            timestamps.append(speed[1])\n",
    "        return timestamps, speeds\n",
    "\n",
    "    def plot_speeds(self):\n",
    "        # laat de data zien in een lijn grafiek\n",
    "        plt.plot(*self.split_array())\n",
    "        plt.show()\n",
    "\n",
    "    def print_min_max(self):\n",
    "        mi = None\n",
    "        ma = None\n",
    "        # hier loop ik door alle snelheden heen en kijk welke lager of hoger is dan die ik al heb\n",
    "        for i in range(1, len(self.speeds)):\n",
    "            speed = self.speeds[i]\n",
    "            if mi == None:\n",
    "                mi = speed\n",
    "            if ma == None:\n",
    "                ma = speed\n",
    "\n",
    "            if mi[0] > speed[0]:\n",
    "                mi = speed\n",
    "\n",
    "            if ma[0] < speed[0]:\n",
    "                ma = speed\n",
    "        # print ma(max speed) en mi(min speed) uit kan niet omrekenen naar kilometers per uur want weet niet hoeveel 1 uur is\n",
    "        print(\"Min: \" + str(mi[0]) + \" meter per timestamp at timestamp \" + str(mi[1]))\n",
    "        print(\"Max: \" + str(ma[0]) + \" meter per timestamp at timestamp \" + str(ma[1]))\n"
   ]
  },
  {
   "cell_type": "code",
   "execution_count": 3,
   "metadata": {},
   "outputs": [
    {
     "name": "stdout",
     "output_type": "stream",
     "text": [
      "Min: 0.15561409364655773 meter per timestamp at timestamp 77.4\n",
      "Max: 0.6428257928864238 meter per timestamp at timestamp 84.5\n"
     ]
    }
   ],
   "source": [
    "v = Vehicle(\"BMW\")\n",
    "# Open het csv bestand en maak een csv reader\n",
    "with open(\"positions.csv\", \"r\") as csvfile:\n",
    "    speedreader = csv.reader(csvfile, delimiter=\";\")\n",
    "    # loop door elke rij van het csv bestand heen\n",
    "    for row in speedreader:\n",
    "        # convert alles naar floats zodat ik hier calculaties op kan maken\n",
    "        row[0] = float(row[0])\n",
    "        row[1] = float(row[1])\n",
    "        row[2] = float(row[2])\n",
    "        # bereken de snelheid\n",
    "        v.calculate_speed([row[1], row[2]], row[0])\n",
    "# print de minimale en maximale snelheid af\n",
    "v.print_min_max()"
   ]
  },
  {
   "cell_type": "code",
   "execution_count": 4,
   "metadata": {},
   "outputs": [
    {
     "data": {
      "image/png": "[encoded data removed]",
      "text/plain": [
       "<Figure size 432x288 with 1 Axes>"
      ]
     },
     "metadata": {
      "needs_background": "light"
     },
     "output_type": "display_data"
    }
   ],
   "source": [
    "# plot de snelheden\n",
    "v.plot_speeds()"
   ]
  },
  {
   "cell_type": "code",
   "execution_count": null,
   "metadata": {},
   "outputs": [],
   "source": []
  }
 ],
 "metadata": {
  "kernelspec": {
   "display_name": "Python 3",
   "language": "python",
   "name": "python3"
  },
  "language_info": {
   "codemirror_mode": {
    "name": "ipython",
    "version": 3
   },
   "file_extension": ".py",
   "mimetype": "text/x-python",
   "name": "python",
   "nbconvert_exporter": "python",
   "pygments_lexer": "ipython3",
   "version": "3.7.3"
  }
 },
 "nbformat": 4,
 "nbformat_minor": 2
}
